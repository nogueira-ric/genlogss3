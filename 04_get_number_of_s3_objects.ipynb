{
 "cells": [
  {
   "cell_type": "markdown",
   "id": "eba4afd4-8e58-46a9-96b0-a5d298ab8218",
   "metadata": {},
   "source": [
    "## Get number of s3 objects\n",
    "\n",
    "Let us go through the details about how we can get number of s3 objects. We will understand the relevance of **Marker** to paginate `list_objects` output using boto3.\n",
    "\n",
    "* One of the way to get s3 object metadata from a given bucket is to use `list_objects`.\n",
    "* However, `list_objects` gets metadata only for 1000 objects at max.\n",
    "* We need to paginate using `Marker` and iterate until we get details about all the objects.\n",
    "\n",
    "Here are the steps we can follow to get the number of s3 objects with in a bucket.\n",
    "* Create s3 client with appropriate profile.\n",
    "* Invoke list_objects incrementally using `Marker` until you get details about all the objects.\n",
    "* Get number of elements in the `Contents` and add it to object count. We can break the loop when the size of `Contents` list is less than 1000 or when `Contents` does not exists as part of the response."
   ]
  },
  {
   "cell_type": "code",
   "execution_count": null,
   "id": "c1436d95-66aa-4481-83de-aa93c526cb05",
   "metadata": {},
   "outputs": [],
   "source": [
    "import boto3"
   ]
  },
  {
   "cell_type": "code",
   "execution_count": null,
   "id": "16f61fe0-078b-43a5-9bea-aaac7556666e",
   "metadata": {},
   "outputs": [],
   "source": [
    "import os\n",
    "os.environ.setdefault('AWS_PROFILE', 'user_name')"
   ]
  },
  {
   "cell_type": "code",
   "execution_count": null,
   "id": "96a6abc8-cb40-4d5b-9d5f-e78663716a99",
   "metadata": {},
   "outputs": [],
   "source": [
    "s3_client = boto3.client('s3')"
   ]
  },
  {
   "cell_type": "code",
   "execution_count": null,
   "id": "5c31cd75-cbb2-4117-87de-3df66409c953",
   "metadata": {},
   "outputs": [],
   "source": [
    "s3_objects = s3_client.list_objects(\n",
    "    Bucket = 'bucket_name',\n",
    "    Prefix = 'prefix_name'\n",
    ")"
   ]
  },
  {
   "cell_type": "code",
   "execution_count": null,
   "id": "08ea67b8-12df-4106-b7f0-d8d1eb5c6f8a",
   "metadata": {},
   "outputs": [],
   "source": [
    "s3_objects.keys()"
   ]
  },
  {
   "cell_type": "code",
   "execution_count": null,
   "id": "5b122c40-908b-44ae-bd45-2e92f0e83a63",
   "metadata": {},
   "outputs": [],
   "source": [
    "s3_objects['Marker']"
   ]
  },
  {
   "cell_type": "code",
   "execution_count": null,
   "id": "a4fb42d4-1478-452c-bf59-f65b85508704",
   "metadata": {},
   "outputs": [],
   "source": [
    "s3_objects['MaxKeys']"
   ]
  },
  {
   "cell_type": "code",
   "execution_count": null,
   "id": "e9284e30-b3b8-4b38-ba25-fb68b7aa366d",
   "metadata": {},
   "outputs": [],
   "source": [
    "len(s3_objects['Contents'])"
   ]
  },
  {
   "cell_type": "code",
   "execution_count": null,
   "id": "e7537b10-069c-4c47-bb8f-fd121dc66220",
   "metadata": {},
   "outputs": [],
   "source": [
    "s3_objects['Contents'][-1]['Key']"
   ]
  },
  {
   "cell_type": "code",
   "execution_count": null,
   "id": "e336d0af-ac63-4c43-a7a3-7927690cc531",
   "metadata": {},
   "outputs": [],
   "source": [
    "marker = s3_objects['Contents'][-1]['Key']"
   ]
  },
  {
   "cell_type": "code",
   "execution_count": null,
   "id": "cf3a8a8e-ec52-465d-9ebb-97231290d921",
   "metadata": {},
   "outputs": [],
   "source": [
    "s3_objects = s3_client.list_objects(\n",
    "    Bucket = 'bucket_name',\n",
    "    Prefix = 'prefix_name',\n",
    "    Marker=marker\n",
    ")"
   ]
  },
  {
   "cell_type": "code",
   "execution_count": null,
   "id": "4725c232-eb1d-42b8-859e-ba5ca264b4e9",
   "metadata": {},
   "outputs": [],
   "source": [
    "s3_objects['Marker']"
   ]
  },
  {
   "cell_type": "code",
   "execution_count": null,
   "id": "5a2596d5-8b54-431c-baf9-944c5533a81a",
   "metadata": {},
   "outputs": [],
   "source": [
    "len(s3_objects['Contents'])"
   ]
  },
  {
   "cell_type": "code",
   "execution_count": null,
   "id": "5ab21839-6d13-404a-a2e3-e53f25e9083c",
   "metadata": {},
   "outputs": [],
   "source": [
    "marker = ''\n",
    "object_count = 0\n",
    "while True:\n",
    "    s3_objects = s3_client.list_objects(\n",
    "        Bucket='bucket_name',\n",
    "        Prefix='prefix_name',\n",
    "        Marker=marker,\n",
    "        MaxKeys=200\n",
    "    ).get('Contents')\n",
    "    if not s3_objects:\n",
    "        break\n",
    "    object_count += len(s3_objects)\n",
    "    marker = s3_objects[-1]['Key']\n",
    "    print(marker)"
   ]
  },
  {
   "cell_type": "code",
   "execution_count": null,
   "id": "ad257343-cd58-45cc-87c3-df3ef3b48ede",
   "metadata": {},
   "outputs": [],
   "source": [
    "object_count"
   ]
  }
 ],
 "metadata": {
  "kernelspec": {
   "display_name": "Python 3 (ipykernel)",
   "language": "python",
   "name": "python3"
  },
  "language_info": {
   "codemirror_mode": {
    "name": "ipython",
    "version": 3
   },
   "file_extension": ".py",
   "mimetype": "text/x-python",
   "name": "python",
   "nbconvert_exporter": "python",
   "pygments_lexer": "ipython3",
   "version": "3.7.5"
  }
 },
 "nbformat": 4,
 "nbformat_minor": 5
}
