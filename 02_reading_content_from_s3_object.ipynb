{
 "cells": [
  {
   "cell_type": "markdown",
   "id": "514fe146-5540-49b7-ba4f-2a142a4ec439",
   "metadata": {},
   "source": [
    "## Reading Content from s3 Object\n",
    "\n",
    "Let us understand how we can read the content from s3 Object or file using Python boto3.\n",
    "* Create s3 client using appropriate profile.\n",
    "* Get one of the object name. We can use `list_objects` to get the object names. It can get up to 1000 object keys or names in each iteration.\n",
    "* We can pick one of the object key or name and pass it on to `get_object` along with bucket name.\n",
    "* The response will contain `Body` of type byte stream. We can decode the `Body` to string.\n",
    "* We can further process the data using relevant string manipulation functions as per our requirements."
   ]
  },
  {
   "cell_type": "code",
   "execution_count": null,
   "id": "f5dd533b-2b82-492b-82dc-3edb4b6b28f6",
   "metadata": {},
   "outputs": [],
   "source": [
    "import boto3"
   ]
  },
  {
   "cell_type": "code",
   "execution_count": null,
   "id": "ec99394e-75eb-4e18-8e89-9161dd00d760",
   "metadata": {},
   "outputs": [],
   "source": [
    "import os\n",
    "os.environ.setdefault('AWS_PROFILE', 'user_name')"
   ]
  },
  {
   "cell_type": "code",
   "execution_count": null,
   "id": "4f8bf8a7-f904-4dca-996d-02d0d791139b",
   "metadata": {},
   "outputs": [],
   "source": [
    "s3_client = boto3.client('s3')"
   ]
  },
  {
   "cell_type": "code",
   "execution_count": null,
   "id": "957335a7-0df5-428c-aa35-b64b0065f3f1",
   "metadata": {},
   "outputs": [],
   "source": [
    "s3_client.list_objects?"
   ]
  },
  {
   "cell_type": "code",
   "execution_count": null,
   "id": "16c30ce1-b7fc-4aac-bd34-a1c4cd55ff9d",
   "metadata": {},
   "outputs": [],
   "source": [
    "s3_objects = s3_client.list_objects(\n",
    "    Bucket='bucket_name',\n",
    "    Prefix='prefix_name'\n",
    ")"
   ]
  },
  {
   "cell_type": "code",
   "execution_count": null,
   "id": "a266b301-e83e-4bf6-b16c-846c8ce2110d",
   "metadata": {},
   "outputs": [],
   "source": [
    "s3_objects"
   ]
  },
  {
   "cell_type": "code",
   "execution_count": null,
   "id": "1692a6f4-83ab-49ad-8478-15c9db1d6e80",
   "metadata": {},
   "outputs": [],
   "source": [
    "s3_objects['Contents']"
   ]
  },
  {
   "cell_type": "code",
   "execution_count": null,
   "id": "3541eca5-2037-4a7c-9d2f-f0e3d9c96d8c",
   "metadata": {},
   "outputs": [],
   "source": [
    "len(s3_objects['Contents'])"
   ]
  },
  {
   "cell_type": "code",
   "execution_count": null,
   "id": "8afe5e4a-de2e-4c3b-b648-1bf8f08f62c7",
   "metadata": {},
   "outputs": [],
   "source": [
    "s3_objects['Contents'][200]"
   ]
  },
  {
   "cell_type": "code",
   "execution_count": null,
   "id": "dd221919-b408-4b2b-a412-493e5e823f7a",
   "metadata": {},
   "outputs": [],
   "source": [
    "s3_objects['Contents'][0]['Key']"
   ]
  },
  {
   "cell_type": "code",
   "execution_count": null,
   "id": "1a0c9187-7e46-494d-a138-91287d495683",
   "metadata": {},
   "outputs": [],
   "source": [
    "s3_object_key = s3_objects['Contents'][0]['Key']"
   ]
  },
  {
   "cell_type": "code",
   "execution_count": null,
   "id": "9af74128-5086-4bf3-8561-2525b7a023f0",
   "metadata": {},
   "outputs": [],
   "source": [
    "s3_client.get_object?"
   ]
  },
  {
   "cell_type": "code",
   "execution_count": null,
   "id": "fc5682c3-5a84-4486-88cf-83024507042e",
   "metadata": {},
   "outputs": [],
   "source": [
    "s3_object = s3_client.get_object(\n",
    "    Bucket='bucket_name',\n",
    "    Key=s3_object_key\n",
    ")"
   ]
  },
  {
   "cell_type": "code",
   "execution_count": null,
   "id": "193175db-0767-420d-bbe8-2bccee75d2e2",
   "metadata": {},
   "outputs": [],
   "source": [
    "type(s3_object)"
   ]
  },
  {
   "cell_type": "code",
   "execution_count": null,
   "id": "916eb256-41c9-4590-80a5-e12454a6932a",
   "metadata": {},
   "outputs": [],
   "source": [
    "s3_object"
   ]
  },
  {
   "cell_type": "code",
   "execution_count": null,
   "id": "789f480e-f045-413b-a329-da30397001b6",
   "metadata": {},
   "outputs": [],
   "source": [
    "s3_object['Body']"
   ]
  },
  {
   "cell_type": "code",
   "execution_count": null,
   "id": "d91b9b39-730e-4612-b719-5fff484d9fe1",
   "metadata": {},
   "outputs": [],
   "source": [
    "help(s3_object['Body'])"
   ]
  },
  {
   "cell_type": "code",
   "execution_count": null,
   "id": "e4f34ab9-d967-4a5a-978e-7c198468f375",
   "metadata": {},
   "outputs": [],
   "source": [
    "s3_object['Body'].read()"
   ]
  },
  {
   "cell_type": "code",
   "execution_count": null,
   "id": "d9890c10-4f4b-4bd7-ac28-f72a449901f3",
   "metadata": {},
   "outputs": [],
   "source": [
    "s3_object['Body'].read().decode('utf-8')"
   ]
  },
  {
   "cell_type": "code",
   "execution_count": null,
   "id": "6392c914-7777-4e37-a908-3f77c6467353",
   "metadata": {},
   "outputs": [],
   "source": [
    "import boto3\n",
    "\n",
    "import os\n",
    "os.environ.setdefault('AWS_PROFILE', 'user_name')\n",
    "\n",
    "s3_client = boto3.client('s3')\n",
    "\n",
    "s3_objects = s3_client.list_objects(\n",
    "    Bucket='bucket_name',\n",
    "    Prefix='prefix_name'\n",
    ")\n",
    "\n",
    "s3_object_key = s3_objects['Contents'][0]['Key']\n",
    "s3_object = s3_client.get_object(\n",
    "    Bucket='bucket_name',\n",
    "    Key=s3_object_key\n",
    ")\n",
    "\n",
    "file_contents = s3_object['Body'].read().decode('utf-8')"
   ]
  },
  {
   "cell_type": "code",
   "execution_count": null,
   "id": "939912aa-23b2-4730-bd7f-5906c5230bd8",
   "metadata": {},
   "outputs": [],
   "source": [
    "file_records = file_contents.splitlines()"
   ]
  },
  {
   "cell_type": "code",
   "execution_count": null,
   "id": "b79b7d79-0aa0-4eae-8274-dbd54fa6abc0",
   "metadata": {},
   "outputs": [],
   "source": [
    "file_records[:3]"
   ]
  },
  {
   "cell_type": "code",
   "execution_count": null,
   "id": "8dea003f-3128-4880-8aa7-1a82048abcce",
   "metadata": {},
   "outputs": [],
   "source": []
  }
 ],
 "metadata": {
  "kernelspec": {
   "display_name": "Python 3 (ipykernel)",
   "language": "python",
   "name": "python3"
  },
  "language_info": {
   "codemirror_mode": {
    "name": "ipython",
    "version": 3
   },
   "file_extension": ".py",
   "mimetype": "text/x-python",
   "name": "python",
   "nbconvert_exporter": "python",
   "pygments_lexer": "ipython3",
   "version": "3.7.5"
  }
 },
 "nbformat": 4,
 "nbformat_minor": 5
}
