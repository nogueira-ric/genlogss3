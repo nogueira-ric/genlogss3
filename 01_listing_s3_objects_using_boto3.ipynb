{
 "cells": [
  {
   "cell_type": "markdown",
   "id": "d821a76e-318b-450e-bf18-463e16a3624a",
   "metadata": {},
   "source": [
    "## Reading Content from s3 Object\n",
    "\n",
    "Let us understand how we can read the content from s3 Object or file using Python boto3.\n",
    "* Create s3 client using appropriate profile.\n",
    "* Get one of the object name. We can use `list_objects` to get the object names. It can get up to 1000 object keys or names in each iteration.\n",
    "* We can pick one of the object key or name and pass it on to `get_object` along with bucket name.\n",
    "* The response will contain `Body` of type byte stream. We can decode the `Body` to string.\n",
    "* We can further process the data using relevant string manipulation functions as per our requirements.\n"
   ]
  },
  {
   "cell_type": "code",
   "execution_count": null,
   "id": "558fb189-6011-4565-99d1-4043ec1ea478",
   "metadata": {},
   "outputs": [],
   "source": [
    "import boto3"
   ]
  },
  {
   "cell_type": "code",
   "execution_count": null,
   "id": "af5a146b-c3e3-48c6-8101-b4c97d1b817b",
   "metadata": {},
   "outputs": [],
   "source": [
    "import os\n",
    "os.environ.setdefault('AWS_PROFILE','user_name')"
   ]
  },
  {
   "cell_type": "code",
   "execution_count": null,
   "id": "44b977fe-edc9-4eb6-8f35-76ea63b8d2ad",
   "metadata": {},
   "outputs": [],
   "source": [
    "s3_client = boto3.client('s3')"
   ]
  },
  {
   "cell_type": "code",
   "execution_count": null,
   "id": "63334e88-0f41-4c28-a112-60786c2fcde6",
   "metadata": {},
   "outputs": [],
   "source": [
    "s3_client"
   ]
  },
  {
   "cell_type": "code",
   "execution_count": null,
   "id": "213aa533-e135-47f4-89b9-d4648ffa8909",
   "metadata": {},
   "outputs": [],
   "source": [
    "s3_client.list_buckets()"
   ]
  },
  {
   "cell_type": "code",
   "execution_count": null,
   "id": "70c710d6-07db-4020-b5c1-1cd80f95a89c",
   "metadata": {},
   "outputs": [],
   "source": [
    "s3_client.list_buckets()"
   ]
  },
  {
   "cell_type": "code",
   "execution_count": null,
   "id": "61d83cf3-21b9-40f5-a7da-99254f2c13be",
   "metadata": {},
   "outputs": [],
   "source": [
    "s3_client.list_objects?"
   ]
  },
  {
   "cell_type": "code",
   "execution_count": null,
   "id": "a7222b39-d781-482c-9af3-b98a916ab122",
   "metadata": {},
   "outputs": [],
   "source": [
    "s3_client.list_objects(\n",
    "    Bucket='bucket_name',\n",
    "    Prefix='prefix_name'\n",
    ")"
   ]
  }
 ],
 "metadata": {
  "kernelspec": {
   "display_name": "Python 3 (ipykernel)",
   "language": "python",
   "name": "python3"
  },
  "language_info": {
   "codemirror_mode": {
    "name": "ipython",
    "version": 3
   },
   "file_extension": ".py",
   "mimetype": "text/x-python",
   "name": "python",
   "nbconvert_exporter": "python",
   "pygments_lexer": "ipython3",
   "version": "3.7.5"
  }
 },
 "nbformat": 4,
 "nbformat_minor": 5
}
