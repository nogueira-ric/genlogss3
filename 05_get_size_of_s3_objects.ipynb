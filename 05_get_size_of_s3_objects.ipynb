{
 "cells": [
  {
   "cell_type": "markdown",
   "id": "6cf777b3-be2e-440b-a235-8cf78045b166",
   "metadata": {},
   "source": [
    "## Get Size of s3 objects\n",
    "\n",
    "Let us go through the details about how we can get size of s3 objects using `MaxKeys` and `Marker`. We will improvise on top of getting count of s3 objects.\n",
    "\n",
    "* Here is the code used to get count of objects in s3.\n",
    "\n",
    "```python\n",
    "marker = ''\n",
    "object_count = 0\n",
    "while True:\n",
    "    s3_objects = s3_client.list_objects(\n",
    "        Bucket='bucket_name',\n",
    "        Prefix='prefix_name',\n",
    "        Marker=marker,\n",
    "        MaxKeys=200\n",
    "    ).get('Contents')\n",
    "    if not s3_objects:\n",
    "        break\n",
    "    object_count += len(s3_objects)\n",
    "    marker = s3_objects[-1]['Key']\n",
    "    print(marker)\n",
    "```\n",
    "\n",
    "* Create client with appropriate profile.\n",
    "* Invoke `list_objects` in pages using `MaxKeys` and `Marker`.\n",
    "* Each entry in the output of `list_objects` contain `Size` along with `Key` and other details.\n",
    "* Add the Size of each entry to get the total size of our s3 Bucket. The size in each entry will be in Bytes and you might have to convert to mega bytes."
   ]
  },
  {
   "cell_type": "code",
   "execution_count": null,
   "id": "69a0e90a-90e5-4ffa-95f0-b501e02a8861",
   "metadata": {},
   "outputs": [],
   "source": [
    "import boto3"
   ]
  },
  {
   "cell_type": "code",
   "execution_count": null,
   "id": "d608f691-41e6-422f-b04a-4941efb0ac70",
   "metadata": {},
   "outputs": [],
   "source": [
    "import os\n",
    "os.environ.setdefault('AWS_PROFILE', 'user_name')"
   ]
  },
  {
   "cell_type": "code",
   "execution_count": null,
   "id": "20de7ba6-938e-41a3-95dc-da8b025a188c",
   "metadata": {},
   "outputs": [],
   "source": [
    "s3_client = boto3.client('s3')"
   ]
  },
  {
   "cell_type": "code",
   "execution_count": null,
   "id": "5a76b190-934b-4d57-ab16-67e2d5ac4841",
   "metadata": {},
   "outputs": [],
   "source": [
    "s3_objects = s3_client.list_objects(\n",
    "    Bucket = 'bucket_name',\n",
    "    Prefix = 'prefix_name'\n",
    ")"
   ]
  },
  {
   "cell_type": "code",
   "execution_count": null,
   "id": "694dba0e-319a-48b7-8bef-fa24637abe33",
   "metadata": {},
   "outputs": [],
   "source": [
    "s3_objects.keys()"
   ]
  },
  {
   "cell_type": "code",
   "execution_count": null,
   "id": "3df14af3-46a2-4bae-8a53-2df6702d854d",
   "metadata": {},
   "outputs": [],
   "source": [
    "s3_objects['Contents'][0]"
   ]
  },
  {
   "cell_type": "code",
   "execution_count": null,
   "id": "da0a68ff-a0fa-428c-a9da-34876f34660c",
   "metadata": {},
   "outputs": [],
   "source": [
    "s3_objects['Contents'][0]['Size']"
   ]
  },
  {
   "cell_type": "code",
   "execution_count": null,
   "id": "26f434fb-7703-4eb0-8346-ed27f1846abe",
   "metadata": {},
   "outputs": [],
   "source": [
    "objects_size = 0.0\n",
    "\n",
    "for s3_object in s3_objects['Contents']:\n",
    "    objects_size += s3_object['Size']"
   ]
  },
  {
   "cell_type": "code",
   "execution_count": null,
   "id": "f778a624-a344-47ae-80d2-aeaf4e36bd38",
   "metadata": {},
   "outputs": [],
   "source": [
    "objects_size"
   ]
  },
  {
   "cell_type": "markdown",
   "id": "119f2731-7cfe-4bad-8d76-b995875706e5",
   "metadata": {},
   "source": [
    "## Installing the library to convert data size from bytes to M"
   ]
  },
  {
   "cell_type": "code",
   "execution_count": null,
   "id": "087d321d-605f-47b6-bda8-c680244b859b",
   "metadata": {},
   "outputs": [],
   "source": [
    "!pip install hurry.filesize"
   ]
  },
  {
   "cell_type": "code",
   "execution_count": null,
   "id": "1f98a0df-f173-4e39-ad09-080b6aecba88",
   "metadata": {},
   "outputs": [],
   "source": [
    "from hurry.filesize import size\n",
    "size(objects_size)"
   ]
  },
  {
   "cell_type": "code",
   "execution_count": null,
   "id": "35f4a6dd-67a8-414c-a8bc-8b8f99e57490",
   "metadata": {},
   "outputs": [],
   "source": [
    "marker = ''\n",
    "objects_size = 0.0\n",
    "while True:\n",
    "    s3_objects = s3_client.list_objects(\n",
    "        Bucket = 'bucket_name',\n",
    "        Prefix = 'prefix_name',\n",
    "        Marker=marker,\n",
    "        MaxKeys=200\n",
    "    ).get('Contents')\n",
    "    if not s3_objects:\n",
    "        break\n",
    "    for s3_object in s3_objects:\n",
    "        objects_size += s3_object['Size']\n",
    "    marker = s3_objects[-1]['Key']\n",
    "    print(marker)"
   ]
  },
  {
   "cell_type": "code",
   "execution_count": null,
   "id": "94f678e8-b97b-4d42-8b4b-525b7da89843",
   "metadata": {},
   "outputs": [],
   "source": [
    "objects_size"
   ]
  },
  {
   "cell_type": "code",
   "execution_count": null,
   "id": "17d1247a-9fae-4728-ad62-f8756d18ac55",
   "metadata": {},
   "outputs": [],
   "source": [
    "size(objects_size)"
   ]
  }
 ],
 "metadata": {
  "kernelspec": {
   "display_name": "Python 3 (ipykernel)",
   "language": "python",
   "name": "python3"
  },
  "language_info": {
   "codemirror_mode": {
    "name": "ipython",
    "version": 3
   },
   "file_extension": ".py",
   "mimetype": "text/x-python",
   "name": "python",
   "nbconvert_exporter": "python",
   "pygments_lexer": "ipython3",
   "version": "3.7.5"
  }
 },
 "nbformat": 4,
 "nbformat_minor": 5
}
