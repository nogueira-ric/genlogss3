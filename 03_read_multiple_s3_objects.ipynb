{
 "cells": [
  {
   "cell_type": "markdown",
   "id": "faae2dbd-597e-4cba-9892-c452d7594abf",
   "metadata": {},
   "source": [
    "## Read multiple s3 objects\n",
    "\n",
    "Let us understand how we can read multiple s3 objects into the collection.\n",
    "* Create client using appropriate profile.\n",
    "* Get 10 objects using the client.\n",
    "* Read the content of all 10 objects into collection"
   ]
  },
  {
   "cell_type": "code",
   "execution_count": null,
   "id": "d8647dbe-9658-42a3-86a9-92b43ecc54f9",
   "metadata": {},
   "outputs": [],
   "source": [
    "import boto3"
   ]
  },
  {
   "cell_type": "code",
   "execution_count": null,
   "id": "8f8dca56-c16c-4f7b-b38e-e3bf713199c2",
   "metadata": {},
   "outputs": [],
   "source": [
    "import os\n",
    "os.environ.setdefault('AWS_PROFILE', 'user_name')"
   ]
  },
  {
   "cell_type": "code",
   "execution_count": null,
   "id": "23e9246f-576c-49f6-bc8e-bbc2b859d750",
   "metadata": {},
   "outputs": [],
   "source": [
    "s3_client = boto3.client('s3')"
   ]
  },
  {
   "cell_type": "code",
   "execution_count": null,
   "id": "cbbfc7a1-d3dc-4257-9922-826f063eefc9",
   "metadata": {},
   "outputs": [],
   "source": [
    "s3_objects = s3_client.list_objects(\n",
    "    Bucket='bucket_name',\n",
    "    Prefix='prefix_name',\n",
    "    MaxKeys=10\n",
    ")"
   ]
  },
  {
   "cell_type": "code",
   "execution_count": null,
   "id": "44c9f925-16c9-4e2c-89d7-964c1c7da9d7",
   "metadata": {},
   "outputs": [],
   "source": [
    "s3_objects['Contents']"
   ]
  },
  {
   "cell_type": "code",
   "execution_count": null,
   "id": "e4863f5a-f9e7-4763-b2d7-d2ffb2d38f06",
   "metadata": {},
   "outputs": [],
   "source": [
    "s3_object_keys = [s3_object['Key'] for s3_object in s3_objects['Contents']]"
   ]
  },
  {
   "cell_type": "code",
   "execution_count": null,
   "id": "8d051871-0a82-49a7-8d61-d2f8d3ee1105",
   "metadata": {},
   "outputs": [],
   "source": [
    "s3_object_keys = []\n",
    "\n",
    "for s3_object in s3_objects['Contents']:\n",
    "    s3_object_key = s3_object['Key']\n",
    "    s3_object_keys.append(s3_object_key)"
   ]
  },
  {
   "cell_type": "code",
   "execution_count": null,
   "id": "7ded742c-f153-4312-8c3a-9c2ba71691e3",
   "metadata": {},
   "outputs": [],
   "source": [
    "s3_object_keys[:5]"
   ]
  },
  {
   "cell_type": "code",
   "execution_count": null,
   "id": "df81b9ee-ded3-43e7-94e0-8a7dfb2d8e03",
   "metadata": {},
   "outputs": [],
   "source": [
    "import boto3\n",
    "\n",
    "import os\n",
    "os.environ.setdefault('AWS_PROFILE', 'user_name')\n",
    "\n",
    "s3_client = boto3.client('s3')\n",
    "\n",
    "s3_objects = s3_client.list_objects(\n",
    "    Bucket='bucket_name',\n",
    "    Prefix='prefix'\n",
    ")\n",
    "\n",
    "s3_object_key = s3_objects['Contents'][0]['Key']\n",
    "s3_object = s3_client.get_object(\n",
    "    Bucket='bucket_name',\n",
    "    Key=s3_object_key\n",
    ")\n",
    "\n",
    "file_contents = s3_object['Body'].read().decode('utf-8')\n",
    "# s3_object['Body'] is of type botocore.response.StreamingBody\n",
    "len(file_contents.splitlines())"
   ]
  },
  {
   "cell_type": "code",
   "execution_count": null,
   "id": "76d4520e-01c0-40fc-9f07-de15651b9893",
   "metadata": {},
   "outputs": [],
   "source": [
    "l1 = [1, 2, 3]\n",
    "l2 = [3, 4, 5]\n",
    "l1 + l2"
   ]
  },
  {
   "cell_type": "code",
   "execution_count": null,
   "id": "6a1c7772-69a4-45f9-a2f1-bbbd9db746a5",
   "metadata": {},
   "outputs": [],
   "source": [
    "data = []\n",
    "for s3_object_key in s3_object_keys:\n",
    "    s3_object_contents = s3_client. \\\n",
    "        get_object(\n",
    "            Bucket='bucket_name',\n",
    "            Key=s3_object_key\n",
    "        )['Body']. \\\n",
    "        read(). \\\n",
    "        decode('utf-8'). \\\n",
    "        splitlines()\n",
    "    data += s3_object_contents"
   ]
  },
  {
   "cell_type": "code",
   "execution_count": null,
   "id": "ae7eded6-7b45-4bf3-abbc-7ff82c39f166",
   "metadata": {},
   "outputs": [],
   "source": [
    "len(data)"
   ]
  },
  {
   "cell_type": "code",
   "execution_count": null,
   "id": "9a7094bb-cd0a-46e8-8703-71e137a4656f",
   "metadata": {},
   "outputs": [],
   "source": [
    "data[:3]"
   ]
  },
  {
   "cell_type": "markdown",
   "id": "1e99403f-e71b-4816-bdaa-23cfa6cbd0e8",
   "metadata": {},
   "source": [
    "# You can further process data and store in database or a file"
   ]
  },
  {
   "cell_type": "code",
   "execution_count": null,
   "id": "7bc9feff-95d4-454f-b2a5-7f9e144d3a5b",
   "metadata": {},
   "outputs": [],
   "source": []
  }
 ],
 "metadata": {
  "kernelspec": {
   "display_name": "Python 3 (ipykernel)",
   "language": "python",
   "name": "python3"
  },
  "language_info": {
   "codemirror_mode": {
    "name": "ipython",
    "version": 3
   },
   "file_extension": ".py",
   "mimetype": "text/x-python",
   "name": "python",
   "nbconvert_exporter": "python",
   "pygments_lexer": "ipython3",
   "version": "3.7.5"
  }
 },
 "nbformat": 4,
 "nbformat_minor": 5
}
